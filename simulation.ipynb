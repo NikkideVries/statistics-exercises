{
 "cells": [
  {
   "cell_type": "code",
   "execution_count": 24,
   "id": "a659aee8-cdac-499a-979f-a53a8f3fcf61",
   "metadata": {
    "tags": []
   },
   "outputs": [],
   "source": [
    "import warnings\n",
    "warnings.filterwarnings(\"ignore\")\n",
    "\n",
    "import seaborn as sns\n",
    "import pandas as pd\n",
    "import numpy as np\n",
    "import matplotlib.pyplot as plt\n",
    "from pydataset import data\n",
    "from scipy import stats\n",
    "import env"
   ]
  },
  {
   "cell_type": "markdown",
   "id": "691b3caa-7f7b-400c-8c54-1f06be7ae4f7",
   "metadata": {},
   "source": [
    "Question 1: How likely is it that you roll doubles when rolling two dice?"
   ]
  },
  {
   "cell_type": "code",
   "execution_count": 2,
   "id": "84864818-ff98-4e92-adfa-33cd7a6f5287",
   "metadata": {
    "tags": []
   },
   "outputs": [
    {
     "data": {
      "text/plain": [
       "36"
      ]
     },
     "execution_count": 2,
     "metadata": {},
     "output_type": "execute_result"
    }
   ],
   "source": [
    "# what are the outcomes: 1,2,3,4,5,6\n",
    "# what are the possible outcomes\n",
    "6*6"
   ]
  },
  {
   "cell_type": "code",
   "execution_count": 3,
   "id": "fd5c343b-c94f-495e-b32f-518906983aa5",
   "metadata": {
    "tags": []
   },
   "outputs": [
    {
     "data": {
      "text/plain": [
       "0.16666666666666666"
      ]
     },
     "execution_count": 3,
     "metadata": {},
     "output_type": "execute_result"
    }
   ],
   "source": [
    "#the total number of doubles is 6\n",
    "6/36"
   ]
  },
  {
   "cell_type": "code",
   "execution_count": 4,
   "id": "a8fd3996-a41e-45e7-b782-8dd5d6fa38f5",
   "metadata": {
    "tags": []
   },
   "outputs": [
    {
     "name": "stdout",
     "output_type": "stream",
     "text": [
      "Die 1 | Die 2 | Doubles\n",
      "-----------------------\n",
      "  1   |   1   |   True\n",
      "  1   |   2   |   False\n",
      "  1   |   3   |   False\n",
      "  1   |   4   |   False\n",
      "  1   |   5   |   False\n",
      "  1   |   6   |   False\n",
      "  2   |   1   |   False\n",
      "  2   |   2   |   True\n",
      "  2   |   3   |   False\n",
      "  2   |   4   |   False\n",
      "  2   |   5   |   False\n",
      "  2   |   6   |   False\n",
      "  3   |   1   |   False\n",
      "  3   |   2   |   False\n",
      "  3   |   3   |   True\n",
      "  3   |   4   |   False\n",
      "  3   |   5   |   False\n",
      "  3   |   6   |   False\n",
      "  4   |   1   |   False\n",
      "  4   |   2   |   False\n",
      "  4   |   3   |   False\n",
      "  4   |   4   |   True\n",
      "  4   |   5   |   False\n",
      "  4   |   6   |   False\n",
      "  5   |   1   |   False\n",
      "  5   |   2   |   False\n",
      "  5   |   3   |   False\n",
      "  5   |   4   |   False\n",
      "  5   |   5   |   True\n",
      "  5   |   6   |   False\n",
      "  6   |   1   |   False\n",
      "  6   |   2   |   False\n",
      "  6   |   3   |   False\n",
      "  6   |   4   |   False\n",
      "  6   |   5   |   False\n",
      "  6   |   6   |   True\n"
     ]
    }
   ],
   "source": [
    "# Define the number of sides on each die\n",
    "sides = 6\n",
    "\n",
    "# Initialize an empty list to store the outcomes\n",
    "outcomes = []\n",
    "\n",
    "# Loop through all possible combinations of two dice rolls\n",
    "for die1 in range(1, sides + 1):\n",
    "    for die2 in range(1, sides + 1):\n",
    "        # Check if the two dice rolls result in doubles\n",
    "        is_doubles = die1 == die2\n",
    "        # Append the outcome to the list, indicating if it's doubles or not\n",
    "        outcomes.append((die1, die2, is_doubles))\n",
    "\n",
    "# Print the table of outcomes\n",
    "print(\"Die 1 | Die 2 | Doubles\")\n",
    "print(\"-----------------------\")\n",
    "for outcome in outcomes:\n",
    "    die1, die2, is_doubles = outcome\n",
    "    print(f\"  {die1}   |   {die2}   |   {is_doubles}\")\n"
   ]
  },
  {
   "cell_type": "code",
   "execution_count": 41,
   "id": "91410e11-80e0-4fe4-b341-c34ed3dce828",
   "metadata": {
    "tags": []
   },
   "outputs": [
    {
     "data": {
      "text/html": [
       "<div>\n",
       "<style scoped>\n",
       "    .dataframe tbody tr th:only-of-type {\n",
       "        vertical-align: middle;\n",
       "    }\n",
       "\n",
       "    .dataframe tbody tr th {\n",
       "        vertical-align: top;\n",
       "    }\n",
       "\n",
       "    .dataframe thead th {\n",
       "        text-align: right;\n",
       "    }\n",
       "</style>\n",
       "<table border=\"1\" class=\"dataframe\">\n",
       "  <thead>\n",
       "    <tr style=\"text-align: right;\">\n",
       "      <th></th>\n",
       "      <th>0</th>\n",
       "      <th>1</th>\n",
       "    </tr>\n",
       "  </thead>\n",
       "  <tbody>\n",
       "    <tr>\n",
       "      <th>0</th>\n",
       "      <td>5</td>\n",
       "      <td>2</td>\n",
       "    </tr>\n",
       "    <tr>\n",
       "      <th>1</th>\n",
       "      <td>6</td>\n",
       "      <td>1</td>\n",
       "    </tr>\n",
       "    <tr>\n",
       "      <th>2</th>\n",
       "      <td>2</td>\n",
       "      <td>1</td>\n",
       "    </tr>\n",
       "    <tr>\n",
       "      <th>3</th>\n",
       "      <td>6</td>\n",
       "      <td>2</td>\n",
       "    </tr>\n",
       "    <tr>\n",
       "      <th>4</th>\n",
       "      <td>1</td>\n",
       "      <td>2</td>\n",
       "    </tr>\n",
       "    <tr>\n",
       "      <th>...</th>\n",
       "      <td>...</td>\n",
       "      <td>...</td>\n",
       "    </tr>\n",
       "    <tr>\n",
       "      <th>99995</th>\n",
       "      <td>4</td>\n",
       "      <td>1</td>\n",
       "    </tr>\n",
       "    <tr>\n",
       "      <th>99996</th>\n",
       "      <td>2</td>\n",
       "      <td>2</td>\n",
       "    </tr>\n",
       "    <tr>\n",
       "      <th>99997</th>\n",
       "      <td>4</td>\n",
       "      <td>1</td>\n",
       "    </tr>\n",
       "    <tr>\n",
       "      <th>99998</th>\n",
       "      <td>5</td>\n",
       "      <td>4</td>\n",
       "    </tr>\n",
       "    <tr>\n",
       "      <th>99999</th>\n",
       "      <td>5</td>\n",
       "      <td>6</td>\n",
       "    </tr>\n",
       "  </tbody>\n",
       "</table>\n",
       "<p>100000 rows × 2 columns</p>\n",
       "</div>"
      ],
      "text/plain": [
       "       0  1\n",
       "0      5  2\n",
       "1      6  1\n",
       "2      2  1\n",
       "3      6  2\n",
       "4      1  2\n",
       "...   .. ..\n",
       "99995  4  1\n",
       "99996  2  2\n",
       "99997  4  1\n",
       "99998  5  4\n",
       "99999  5  6\n",
       "\n",
       "[100000 rows x 2 columns]"
      ]
     },
     "execution_count": 41,
     "metadata": {},
     "output_type": "execute_result"
    }
   ],
   "source": [
    "# number of trials:\n",
    "n_trials = nrows = 2\n",
    "# number of dice rolls:\n",
    "n_dice = ncols = 100_000\n",
    "\n",
    "rolls = pd.DataFrame(np.random.choice([1,2,3,4,5,6], n_trials * n_dice). reshape(ncols, nrows))\n",
    "rolls"
   ]
  },
  {
   "cell_type": "code",
   "execution_count": 42,
   "id": "8d785d8b-9663-40f3-81c1-29ca6f0fad22",
   "metadata": {
    "tags": []
   },
   "outputs": [
    {
     "data": {
      "text/plain": [
       "0        False\n",
       "1        False\n",
       "2        False\n",
       "3        False\n",
       "4        False\n",
       "         ...  \n",
       "99995    False\n",
       "99996     True\n",
       "99997    False\n",
       "99998    False\n",
       "99999    False\n",
       "Length: 100000, dtype: bool"
      ]
     },
     "execution_count": 42,
     "metadata": {},
     "output_type": "execute_result"
    }
   ],
   "source": [
    "# are the two numbers equal to each other?\n",
    "doubles = rolls[0] == rolls[1]\n",
    "doubles"
   ]
  },
  {
   "cell_type": "code",
   "execution_count": 44,
   "id": "4126c767-3b74-4441-bc47-c742bebd6dba",
   "metadata": {
    "tags": []
   },
   "outputs": [
    {
     "data": {
      "text/plain": [
       "0.16616"
      ]
     },
     "execution_count": 44,
     "metadata": {},
     "output_type": "execute_result"
    }
   ],
   "source": [
    "# probability\n",
    "probability_doubles = doubles.mean()\n",
    "probability_doubles"
   ]
  },
  {
   "cell_type": "markdown",
   "id": "94d55a17-59bb-4a4a-9562-14b5e11d9259",
   "metadata": {},
   "source": [
    "Question 2: If you flip 8 coins, what is the probability of getting exactly 3 heads? What is the probability of getting more than 3 heads?"
   ]
  },
  {
   "cell_type": "code",
   "execution_count": 45,
   "id": "8bb64dee-b22c-4112-b94b-f2dc05a4dd00",
   "metadata": {
    "tags": []
   },
   "outputs": [
    {
     "data": {
      "text/plain": [
       "256"
      ]
     },
     "execution_count": 45,
     "metadata": {},
     "output_type": "execute_result"
    }
   ],
   "source": [
    "# trial: one coin flip\n",
    "# outcomes: heads/tails\n",
    "# successs: getting heads\n",
    "# possible outcomes: \n",
    "2*2*2*2*2*2*2*2"
   ]
  },
  {
   "cell_type": "code",
   "execution_count": null,
   "id": "b1e35da8-42f6-420c-8ddb-328aedb77651",
   "metadata": {},
   "outputs": [],
   "source": []
  }
 ],
 "metadata": {
  "kernelspec": {
   "display_name": "Python 3 (ipykernel)",
   "language": "python",
   "name": "python3"
  },
  "language_info": {
   "codemirror_mode": {
    "name": "ipython",
    "version": 3
   },
   "file_extension": ".py",
   "mimetype": "text/x-python",
   "name": "python",
   "nbconvert_exporter": "python",
   "pygments_lexer": "ipython3",
   "version": "3.11.4"
  }
 },
 "nbformat": 4,
 "nbformat_minor": 5
}
