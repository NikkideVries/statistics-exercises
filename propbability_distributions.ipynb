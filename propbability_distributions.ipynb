{
 "cells": [
  {
   "cell_type": "code",
   "execution_count": 2,
   "id": "35dcc0b4-1394-4c1d-9eed-7f7c88c5818e",
   "metadata": {
    "tags": []
   },
   "outputs": [],
   "source": [
    "import warnings\n",
    "warnings.filterwarnings(\"ignore\")\n",
    "\n",
    "import seaborn as sns\n",
    "import pandas as pd\n",
    "import numpy as np\n",
    "import matplotlib.pyplot as plt\n",
    "from pydataset import data\n",
    "from scipy import stats\n",
    "import env"
   ]
  },
  {
   "cell_type": "markdown",
   "id": "9ae75f96-52c9-405d-9c12-956b9071ad46",
   "metadata": {},
   "source": [
    "### Question 1: \n",
    "A bank found that the average number of cars waiting during the noon hour at a drive-up window follows a **Poisson distribution** with a mean of 2 cars. Make a chart of this distribution and answer these questions concerning the probability of cars waiting at the drive-up window."
   ]
  },
  {
   "cell_type": "code",
   "execution_count": 34,
   "id": "01dfc887-69f0-49a8-adc6-d84db95d2e48",
   "metadata": {
    "tags": []
   },
   "outputs": [
    {
     "data": {
      "image/png": "[encoded data removed]",
      "text/plain": [
       "<Figure size 640x480 with 1 Axes>"
      ]
     },
     "metadata": {},
     "output_type": "display_data"
    }
   ],
   "source": [
    "# the mean number of cars:\n",
    "mean_cars = 2\n",
    "\n",
    "# create the range for the graph\n",
    "x = np.arange(0,11)\n",
    "\n",
    "# probability a value is equal to a point. Discrete Data: cars cannot be broken in parts.\n",
    "# poisson distrubition: .poisson: A poisson discrete random variable.\n",
    "y  = stats.poisson(mean_cars).pmf(x)\n",
    "\n",
    "# create the bar chart:\n",
    "plt.bar(x, y)\n",
    "plt.xlabel('Number of Cars during Noon')\n",
    "plt.ylabel(' p(x)')\n",
    "plt.title('Poisson Distribution of Cars')\n",
    "plt.show()"
   ]
  },
  {
   "cell_type": "code",
   "execution_count": 32,
   "id": "a74afe11-d1b5-4cca-8690-1712c273d26e",
   "metadata": {
    "tags": []
   },
   "outputs": [
    {
     "data": {
      "text/plain": [
       "0.1333"
      ]
     },
     "execution_count": 32,
     "metadata": {},
     "output_type": "execute_result"
    }
   ],
   "source": [
    "# a. What is the probability that no cars drive up in the noon hour?\n",
    "\n",
    "# Experimental Probability\n",
    "# np.random: will give random variables\n",
    "# poisson(discrete_number, range) == set_value (will give boolean list)\n",
    "#.mean() will get the mean of the True(when the variable is eqaul to 0)\n",
    "(np.random.poisson(mean_cars, 10_000) == 0).mean()"
   ]
  },
  {
   "cell_type": "code",
   "execution_count": 31,
   "id": "2208d485-859d-4575-a985-4bb6b740e985",
   "metadata": {
    "tags": []
   },
   "outputs": [
    {
     "data": {
      "text/plain": [
       "0.1353352832366127"
      ]
     },
     "execution_count": 31,
     "metadata": {},
     "output_type": "execute_result"
    }
   ],
   "source": [
    "# Theoretical Probability\n",
    "# .poisson(distinct_variable).pmf(requested_variable: no cars)\n",
    "stats.poisson(mean_cars).pmf(0)"
   ]
  },
  {
   "cell_type": "code",
   "execution_count": 35,
   "id": "e3baaaa6-23f5-4769-a995-39734143543a",
   "metadata": {
    "tags": []
   },
   "outputs": [
    {
     "data": {
      "text/plain": [
       "0.3275"
      ]
     },
     "execution_count": 35,
     "metadata": {},
     "output_type": "execute_result"
    }
   ],
   "source": [
    "# b. What is the probability that 3 or more cars come through the drive through?\n",
    "\n",
    "#Experimental Probability\n",
    "(np.random.poisson(mean_cars, 10_000) >= 3).mean()"
   ]
  },
  {
   "cell_type": "code",
   "execution_count": 36,
   "id": "ebefa9ed-92b6-4c43-bfbe-eb199341592d",
   "metadata": {
    "tags": []
   },
   "outputs": [
    {
     "data": {
      "text/plain": [
       "0.32332358381693654"
      ]
     },
     "execution_count": 36,
     "metadata": {},
     "output_type": "execute_result"
    }
   ],
   "source": [
    "# Theoretical Probability\n",
    "# probabilty a value is greater than a point = .sf (have the value, want the probability)\n",
    "# .poisson(distinct_varibale).sf(value. more than 2)\n",
    "stats.poisson(mean_cars).sf(2)"
   ]
  },
  {
   "cell_type": "code",
   "execution_count": 43,
   "id": "bed2ab15-550c-421b-9ac4-5ef4a0f19b78",
   "metadata": {
    "tags": []
   },
   "outputs": [
    {
     "data": {
      "text/plain": [
       "0.862"
      ]
     },
     "execution_count": 43,
     "metadata": {},
     "output_type": "execute_result"
    }
   ],
   "source": [
    "# c. How likely is it that the drive through gets at least 1 car?\n",
    "\n",
    "#Experimental Probability\n",
    "(np.random.poisson(mean_cars, 10_000) >= 1).mean()"
   ]
  },
  {
   "cell_type": "code",
   "execution_count": 42,
   "id": "96ef8239-42b2-4479-8117-bb06a5ee388f",
   "metadata": {
    "tags": []
   },
   "outputs": [
    {
     "data": {
      "text/plain": [
       "0.8646647167633873"
      ]
     },
     "execution_count": 42,
     "metadata": {},
     "output_type": "execute_result"
    }
   ],
   "source": [
    "# Theoretical Probability\n",
    "# probabilty a value is less than or equal to a point: .sf (have the value, want the probability)\n",
    "stats.poisson(mean_cars).sf(0)"
   ]
  },
  {
   "cell_type": "code",
   "execution_count": 45,
   "id": "0ec9f487-829b-4245-ae32-782ea442dd48",
   "metadata": {
    "tags": []
   },
   "outputs": [
    {
     "data": {
      "text/plain": [
       "0.8646647167633873"
      ]
     },
     "execution_count": 45,
     "metadata": {},
     "output_type": "execute_result"
    }
   ],
   "source": [
    "#another method: \n",
    "1 - stats.poisson(mean_cars).pmf(0)"
   ]
  },
  {
   "cell_type": "markdown",
   "id": "678988e5-5443-40a4-94c3-daae1195dc9a",
   "metadata": {},
   "source": [
    "### Question 2:\n",
    "Grades of State University graduates are **normally distributed** with a mean of 3.0 and a standard deviation of .3. Calculate the following:"
   ]
  },
  {
   "cell_type": "code",
   "execution_count": 48,
   "id": "e6ed6db1-b77c-41e5-9faf-3824d2dab69c",
   "metadata": {
    "tags": []
   },
   "outputs": [
    {
     "data": {
      "text/plain": [
       "<scipy.stats._distn_infrastructure.rv_continuous_frozen at 0x1478f6a10>"
      ]
     },
     "execution_count": 48,
     "metadata": {},
     "output_type": "execute_result"
    }
   ],
   "source": [
    "mean_grade = 3.0\n",
    "std_grade = 0.3\n",
    "\n",
    "#normaly distrubuted: .norm(mean, standard deviation)\n",
    "\n",
    "grade = stats.norm(mean_grade, std_grade)\n",
    "grade"
   ]
  },
  {
   "cell_type": "code",
   "execution_count": 55,
   "id": "33b914a8-b148-49e8-9b06-269f32dfcd77",
   "metadata": {
    "tags": []
   },
   "outputs": [
    {
     "data": {
      "text/plain": [
       "3.4934560880854417"
      ]
     },
     "execution_count": 55,
     "metadata": {},
     "output_type": "execute_result"
    }
   ],
   "source": [
    "# a. What grade point average is required to be in the top 5% of the graduating class?\n",
    "\n",
    "# probability a value is less than or equal to a point\n",
    "# .ppf: have the probability and want the value\n",
    "\n",
    "grade.isf(.05)"
   ]
  },
  {
   "cell_type": "code",
   "execution_count": 59,
   "id": "0eb9f4c6-0748-4ce4-ade3-8ba9cc4b2562",
   "metadata": {
    "tags": []
   },
   "outputs": [
    {
     "data": {
      "text/plain": [
       "3.4934560880854417"
      ]
     },
     "execution_count": 59,
     "metadata": {},
     "output_type": "execute_result"
    }
   ],
   "source": [
    "# opposite method\n",
    "grade.ppf(0.95)"
   ]
  },
  {
   "cell_type": "code",
   "execution_count": 56,
   "id": "6befc29c-0977-471d-8a00-818641abc5cf",
   "metadata": {
    "tags": []
   },
   "outputs": [
    {
     "data": {
      "text/plain": [
       "2.689069983151863"
      ]
     },
     "execution_count": 56,
     "metadata": {},
     "output_type": "execute_result"
    }
   ],
   "source": [
    "# b. What GPA constitutes the bottom 15% of the class?\n",
    "\n",
    "grade.ppf(.15)"
   ]
  },
  {
   "cell_type": "code",
   "execution_count": 61,
   "id": "8b14134d-ba96-48f9-ac1a-2b3fae2df2cf",
   "metadata": {
    "tags": []
   },
   "outputs": [
    {
     "data": {
      "text/plain": [
       "2.689069983151863"
      ]
     },
     "execution_count": 61,
     "metadata": {},
     "output_type": "execute_result"
    }
   ],
   "source": [
    "# opposite method\n",
    "grade.isf(.85)"
   ]
  },
  {
   "cell_type": "code",
   "execution_count": 64,
   "id": "2d338338-da3c-4bb2-93a6-3f7a5b7fc09d",
   "metadata": {
    "tags": []
   },
   "outputs": [
    {
     "data": {
      "text/plain": [
       "True"
      ]
     },
     "execution_count": 64,
     "metadata": {},
     "output_type": "execute_result"
    }
   ],
   "source": [
    "# c. An eccentric alumnus left scholarship money for students in the third decile from the bottom of their class. \n",
    "# Determine the range of the third decile. Would a student with a 2.8 grade point average qualify for this scholarship?\n",
    "\n",
    "# 1st declie: 0-10 percentile\n",
    "# 2nd decile: 10-20 percentile\n",
    "# 3rd decile: 20-30 percentile\n",
    "\n",
    "range_of_gpa = grade.ppf([.2, .3])\n",
    "range_of_gpa\n",
    "\n",
    "(range_of_gpa[0] < 2.8) and (range_of_gpa[1] > 2.8)"
   ]
  },
  {
   "cell_type": "code",
   "execution_count": 69,
   "id": "c84e199b-482e-43a5-a8c1-5547e9fc227e",
   "metadata": {
    "tags": []
   },
   "outputs": [
    {
     "name": "stdout",
     "output_type": "stream",
     "text": [
      "You are in the 95.0th percentile.\n"
     ]
    }
   ],
   "source": [
    "# d. If I have a GPA of 3.5, what percentile am I in?\n",
    "\n",
    "grade.sf(3.5)\n",
    "print(f'You are in the {(grade.cdf(3.5).round(2)*100)}th percentile.')"
   ]
  },
  {
   "cell_type": "markdown",
   "id": "8acf9093-ee1a-4158-95d5-4bb2b93e03cc",
   "metadata": {},
   "source": [
    "### Question 3: \n",
    "A marketing website has an average click-through rate of 2%. One day they observe 4326 visitors and 97 click-throughs. How likely is it that this many people or more click through?"
   ]
  },
  {
   "cell_type": "markdown",
   "id": "3d1df6b6-9c69-45b8-bdbc-d6d140b203ea",
   "metadata": {},
   "source": [
    "Binomial: .binom(k- 1, n, p)\n",
    "- k = number of successes\n",
    "- n = total number of trials or observations\n",
    "- p = the probability of sucess in a single trial"
   ]
  },
  {
   "cell_type": "code",
   "execution_count": 73,
   "id": "477b8fc8-1790-4826-b291-ae744a1e2494",
   "metadata": {
    "tags": []
   },
   "outputs": [
    {
     "data": {
      "text/plain": [
       "0.13975823631416448"
      ]
     },
     "execution_count": 73,
     "metadata": {},
     "output_type": "execute_result"
    }
   ],
   "source": [
    "# parameters:\n",
    "\n",
    "k = 97\n",
    "n = 4_326\n",
    "p = 0.02\n",
    "\n",
    "# need to use the binomial probability formula\n",
    "stats.binom(n, p).sf(k-1)\n",
    "\n"
   ]
  },
  {
   "cell_type": "markdown",
   "id": "7cab1894-e4ef-45a4-b1d9-72c6385d7a44",
   "metadata": {},
   "source": [
    "### Question 4:\n",
    "You are working on some statistics homework consisting of 100 questions where all of the answers are a probability rounded to the hundreths place. Looking to save time, you put down random probabilities as the answer to each question."
   ]
  },
  {
   "cell_type": "code",
   "execution_count": null,
   "id": "0ff4f314-1453-486a-931e-e59775a7ae41",
   "metadata": {},
   "outputs": [],
   "source": []
  }
 ],
 "metadata": {
  "kernelspec": {
   "display_name": "Python 3 (ipykernel)",
   "language": "python",
   "name": "python3"
  },
  "language_info": {
   "codemirror_mode": {
    "name": "ipython",
    "version": 3
   },
   "file_extension": ".py",
   "mimetype": "text/x-python",
   "name": "python",
   "nbconvert_exporter": "python",
   "pygments_lexer": "ipython3",
   "version": "3.11.4"
  }
 },
 "nbformat": 4,
 "nbformat_minor": 5
}
