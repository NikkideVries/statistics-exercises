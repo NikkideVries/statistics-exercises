{
 "cells": [
  {
   "cell_type": "code",
   "execution_count": 1,
   "id": "08777cfd-4a74-4fd0-91fe-8723587e1a46",
   "metadata": {
    "tags": []
   },
   "outputs": [],
   "source": [
    "import pandas as pd\n",
    "import numpy as np\n",
    "\n",
    "from pydataset import data\n",
    "from scipy import stats"
   ]
  },
  {
   "attachments": {
    "412c3ce1-57b8-45e4-a2f4-b4f0982f1201.png": {
     "image/png": "[encoded data removed]"
    }
   },
   "cell_type": "markdown",
   "id": "31a8d089-7fbc-428a-b2bf-84e356286e24",
   "metadata": {},
   "source": [
    "### Null vs Alternative Hypothesis\n",
    "- $H_0$: no difference or no effect\n",
    "- $H_a$: there is a difference or effect\n",
    "- wether Ha is ≠, <,>, determines one-tailed vs. two-tailed test\n",
    "    - < or > == one-tailed\n",
    "    - ≠ == two-tailed\n",
    "    \n",
    "![image.png](attachment:412c3ce1-57b8-45e4-a2f4-b4f0982f1201.png)\n",
    "\n",
    "- A **type I** error is when we reject the null hypothesis, but, in reality, the null hypothesis is true.\n",
    "- A **type II** error is when we fail to reject the null hypothesis when it is actually false."
   ]
  },
  {
   "cell_type": "markdown",
   "id": "650ac9bf-72e3-4f30-9dcf-cc45d1517211",
   "metadata": {},
   "source": [
    "### Part 1\n",
    "For each of the following questions, formulate a null and alternative hypothesis (be as specific as you can be), then give an example of what a true positive, true negative, type I and type II errors would look like. Note that some of the questions are intentionally phrased in a vague way. It is your job to reword these as more precise questions that could be tested."
   ]
  },
  {
   "cell_type": "markdown",
   "id": "27836cad-dc9e-4856-aa61-f00d882e5e59",
   "metadata": {},
   "source": [
    "1. Has the network latency gone up since we switched internet servive providers?"
   ]
  },
  {
   "cell_type": "markdown",
   "id": "b9af9adb-ca26-4944-8fea-bfc50087e7ec",
   "metadata": {},
   "source": [
    "Answer: \n",
    "- $H_0$ : There is no difference in network latency due to a swtich in internet servie providers.\n",
    "- $H_a$ : The is a difference in network latency due to a switch in internet service providers. \n",
    "    \n",
    "    - True positive: We rejcet the $H_0$, there is a difference between latency and providers.\n",
    "    - False positive (Type I): We reject the $H_0$, there is a diffence betwen latency and providers, but, in reality, there is no difference (null is true). \n",
    "    - True Negative: We fail to reject the $H_0$, there is no difference between latency and providers.\n",
    "    - False Negative (Type II): We fail to reject the $H_0$, there is no difference between latency and providers, however this is false (there is a difference). "
   ]
  },
  {
   "cell_type": "markdown",
   "id": "9414eb26-2d04-4676-ad5e-22a8ad68ff86",
   "metadata": {},
   "source": [
    "2. Is the website redesign any good?"
   ]
  },
  {
   "cell_type": "markdown",
   "id": "a1d849a5-d657-43bb-b9c1-4c83f7b77781",
   "metadata": {},
   "source": [
    "- $H_0$: There is no difference between the old and new website design.\n",
    "- $H_a$: There is a difference between the old and new website design. \n",
    "    - True positve: We reject the $H_0$, the designs are different. \n",
    "    - False positive (Type I): We reject the $H_0$, the designs are different, but, in reality, there is no difference (null is true). \n",
    "    - True negative: We fail to reject the $H_0$, there is no  difference in the website desing.\n",
    "    - False negative (Type II): We fail to reject the $H_0$, we think the designs are not different, however this is false (they are differnt)."
   ]
  },
  {
   "cell_type": "markdown",
   "id": "df9c2bcf-f05c-4b2e-b65a-b2bf8a17a108",
   "metadata": {},
   "source": [
    "3. Is our television ad driving more sales?"
   ]
  },
  {
   "cell_type": "markdown",
   "id": "900132c3-17cc-46dc-8044-f494482441b6",
   "metadata": {},
   "source": [
    "- $H_0$: The ad did not impact sales.\n",
    "- $H_a$: The ad did impact sales. \n",
    "    - True positive: We reject the $H_0$, there is a impact from the ad.\n",
    "    - False positive(Type I): We reject the $H_0$, there is a impact from the ad, but, in reality, there is no difference(null is true).\n",
    "    - True negative: We fail to reject the $H_0$, there is no impact from the ad. \n",
    "    - False negative (Type II): We fail to reject the $H_0$, there is no impact from the ad, however this is false (there is an impact)."
   ]
  },
  {
   "cell_type": "markdown",
   "id": "067fb60e-3562-40d7-b275-1fc8cc4ffe16",
   "metadata": {},
   "source": [
    "### Part II"
   ]
  },
  {
   "cell_type": "markdown",
   "id": "ca7f319c-0ff4-4b89-8dfa-eb5ea5f999a0",
   "metadata": {
    "tags": []
   },
   "source": [
    "Use the following contingency table to help answer the question of whether using a Macbook and being a Codeup student are independent of each other."
   ]
  },
  {
   "cell_type": "code",
   "execution_count": null,
   "id": "60cef6e8-02a3-4c75-9844-300d279c4bbf",
   "metadata": {},
   "outputs": [],
   "source": []
  }
 ],
 "metadata": {
  "kernelspec": {
   "display_name": "Python 3 (ipykernel)",
   "language": "python",
   "name": "python3"
  },
  "language_info": {
   "codemirror_mode": {
    "name": "ipython",
    "version": 3
   },
   "file_extension": ".py",
   "mimetype": "text/x-python",
   "name": "python",
   "nbconvert_exporter": "python",
   "pygments_lexer": "ipython3",
   "version": "3.11.4"
  }
 },
 "nbformat": 4,
 "nbformat_minor": 5
}
